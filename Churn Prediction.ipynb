{
 "metadata": {
  "name": "",
  "signature": "sha256:f740a034a018997e4173b15280edf5b3bf5b3c6a17c48223196917b80916c8a5"
 },
 "nbformat": 3,
 "nbformat_minor": 0,
 "worksheets": [
  {
   "cells": [
    {
     "cell_type": "markdown",
     "metadata": {},
     "source": [
      "#Churn Example by yHat\n",
      "Example of predicting churn by yHat.\n",
      "[Blog Entry](http://blog.yhathq.com/posts/predicting-customer-churn-with-sklearn.html)"
     ]
    },
    {
     "cell_type": "markdown",
     "metadata": {},
     "source": [
      "#Data Assessment\n",
      "First look at the data"
     ]
    },
    {
     "cell_type": "code",
     "collapsed": false,
     "input": [
      "from __future__ import division\n",
      "import pandas as pd\n",
      "import numpy as np\n",
      "\n",
      "churnDf = pd.read_csv('data.csv')\n",
      "colNames = churnDf.columns.tolist()\n",
      "\n",
      "print \"Column names:\"\n",
      "print colNames\n",
      "\n",
      "#concatenates first six and last six columns\n",
      "toShow = colNames[:6] + colNames[-6:]\n",
      "\n",
      "print \"\\nSample data:\"\n",
      "churnDf[toShow].head(6)"
     ],
     "language": "python",
     "metadata": {},
     "outputs": [
      {
       "output_type": "stream",
       "stream": "stdout",
       "text": [
        "Column names:\n",
        "['State', 'Account Length', 'Area Code', 'Phone', \"Int'l Plan\", 'VMail Plan', 'VMail Message', 'Day Mins', 'Day Calls', 'Day Charge', 'Eve Mins', 'Eve Calls', 'Eve Charge', 'Night Mins', 'Night Calls', 'Night Charge', 'Intl Mins', 'Intl Calls', 'Intl Charge', 'CustServ Calls', 'Churn?']\n",
        "\n",
        "Sample data:\n"
       ]
      },
      {
       "html": [
        "<div style=\"max-height:1000px;max-width:1500px;overflow:auto;\">\n",
        "<table border=\"1\" class=\"dataframe\">\n",
        "  <thead>\n",
        "    <tr style=\"text-align: right;\">\n",
        "      <th></th>\n",
        "      <th>State</th>\n",
        "      <th>Account Length</th>\n",
        "      <th>Area Code</th>\n",
        "      <th>Phone</th>\n",
        "      <th>Int'l Plan</th>\n",
        "      <th>VMail Plan</th>\n",
        "      <th>Night Charge</th>\n",
        "      <th>Intl Mins</th>\n",
        "      <th>Intl Calls</th>\n",
        "      <th>Intl Charge</th>\n",
        "      <th>CustServ Calls</th>\n",
        "      <th>Churn?</th>\n",
        "    </tr>\n",
        "  </thead>\n",
        "  <tbody>\n",
        "    <tr>\n",
        "      <th>0</th>\n",
        "      <td> KS</td>\n",
        "      <td> 128</td>\n",
        "      <td> 415</td>\n",
        "      <td> 382-4657</td>\n",
        "      <td>  no</td>\n",
        "      <td> yes</td>\n",
        "      <td> 11.01</td>\n",
        "      <td> 10.0</td>\n",
        "      <td> 3</td>\n",
        "      <td> 2.70</td>\n",
        "      <td> 1</td>\n",
        "      <td> False.</td>\n",
        "    </tr>\n",
        "    <tr>\n",
        "      <th>1</th>\n",
        "      <td> OH</td>\n",
        "      <td> 107</td>\n",
        "      <td> 415</td>\n",
        "      <td> 371-7191</td>\n",
        "      <td>  no</td>\n",
        "      <td> yes</td>\n",
        "      <td> 11.45</td>\n",
        "      <td> 13.7</td>\n",
        "      <td> 3</td>\n",
        "      <td> 3.70</td>\n",
        "      <td> 1</td>\n",
        "      <td> False.</td>\n",
        "    </tr>\n",
        "    <tr>\n",
        "      <th>2</th>\n",
        "      <td> NJ</td>\n",
        "      <td> 137</td>\n",
        "      <td> 415</td>\n",
        "      <td> 358-1921</td>\n",
        "      <td>  no</td>\n",
        "      <td>  no</td>\n",
        "      <td>  7.32</td>\n",
        "      <td> 12.2</td>\n",
        "      <td> 5</td>\n",
        "      <td> 3.29</td>\n",
        "      <td> 0</td>\n",
        "      <td> False.</td>\n",
        "    </tr>\n",
        "    <tr>\n",
        "      <th>3</th>\n",
        "      <td> OH</td>\n",
        "      <td>  84</td>\n",
        "      <td> 408</td>\n",
        "      <td> 375-9999</td>\n",
        "      <td> yes</td>\n",
        "      <td>  no</td>\n",
        "      <td>  8.86</td>\n",
        "      <td>  6.6</td>\n",
        "      <td> 7</td>\n",
        "      <td> 1.78</td>\n",
        "      <td> 2</td>\n",
        "      <td> False.</td>\n",
        "    </tr>\n",
        "    <tr>\n",
        "      <th>4</th>\n",
        "      <td> OK</td>\n",
        "      <td>  75</td>\n",
        "      <td> 415</td>\n",
        "      <td> 330-6626</td>\n",
        "      <td> yes</td>\n",
        "      <td>  no</td>\n",
        "      <td>  8.41</td>\n",
        "      <td> 10.1</td>\n",
        "      <td> 3</td>\n",
        "      <td> 2.73</td>\n",
        "      <td> 3</td>\n",
        "      <td> False.</td>\n",
        "    </tr>\n",
        "    <tr>\n",
        "      <th>5</th>\n",
        "      <td> AL</td>\n",
        "      <td> 118</td>\n",
        "      <td> 510</td>\n",
        "      <td> 391-8027</td>\n",
        "      <td> yes</td>\n",
        "      <td>  no</td>\n",
        "      <td>  9.18</td>\n",
        "      <td>  6.3</td>\n",
        "      <td> 6</td>\n",
        "      <td> 1.70</td>\n",
        "      <td> 0</td>\n",
        "      <td> False.</td>\n",
        "    </tr>\n",
        "  </tbody>\n",
        "</table>\n",
        "<p>6 rows \u00d7 12 columns</p>\n",
        "</div>"
       ],
       "metadata": {},
       "output_type": "pyout",
       "prompt_number": 25,
       "text": [
        "  State  Account Length  Area Code     Phone Int'l Plan VMail Plan  \\\n",
        "0    KS             128        415  382-4657         no        yes   \n",
        "1    OH             107        415  371-7191         no        yes   \n",
        "2    NJ             137        415  358-1921         no         no   \n",
        "3    OH              84        408  375-9999        yes         no   \n",
        "4    OK              75        415  330-6626        yes         no   \n",
        "5    AL             118        510  391-8027        yes         no   \n",
        "\n",
        "   Night Charge  Intl Mins  Intl Calls  Intl Charge  CustServ Calls  Churn?  \n",
        "0         11.01       10.0           3         2.70               1  False.  \n",
        "1         11.45       13.7           3         3.70               1  False.  \n",
        "2          7.32       12.2           5         3.29               0  False.  \n",
        "3          8.86        6.6           7         1.78               2  False.  \n",
        "4          8.41       10.1           3         2.73               3  False.  \n",
        "5          9.18        6.3           6         1.70               0  False.  \n",
        "\n",
        "[6 rows x 12 columns]"
       ]
      }
     ],
     "prompt_number": 25
    },
    {
     "cell_type": "markdown",
     "metadata": {},
     "source": [
      "#Data Manipulation"
     ]
    },
    {
     "cell_type": "code",
     "collapsed": false,
     "input": [
      "# Isolate target data\n",
      "churnResult = churnDf['Churn?']\n",
      "y = np.where(churnResult == 'True.',1,0)\n",
      "\n",
      "# We don't need these columns\n",
      "toDrop = ['State','Area Code','Phone','Churn?']\n",
      "churnFeatSpace = churnDf.drop(toDrop, axis=1)\n",
      "\n",
      "# 'yes'/'no' has to be converted to boolean values\n",
      "# NumPy converts these from boolean to 1. and 0. later\n",
      "yes_no_cols = [\"Int'l Plan\",\"VMail Plan\"]\n",
      "churnFeatSpace[yes_no_cols] = churnFeatSpace[yes_no_cols] == 'yes'\n",
      "\n",
      "# Pull out features for future use\n",
      "features = churnFeatSpace.columns\n",
      "\n",
      "X = churnFeatSpace.as_matrix().astype(np.float)\n",
      "\n",
      "# This is important\n",
      "from sklearn.preprocessing import StandardScaler\n",
      "scaler = StandardScaler()\n",
      "X = scaler.fit_transform(X)\n",
      "\n",
      "print \"Feature space holds %d observations and %d features\" % X.shape\n",
      "print \"Unique target labels:\", np.unique(y)"
     ],
     "language": "python",
     "metadata": {},
     "outputs": [
      {
       "output_type": "stream",
       "stream": "stdout",
       "text": [
        "Feature space holds 3333 observations and 17 features\n",
        "Unique target labels: [0 1]\n"
       ]
      }
     ],
     "prompt_number": 26
    },
    {
     "cell_type": "markdown",
     "metadata": {},
     "source": [
      "#Set up cross-validation\n",
      "Definition to run model against training set and then test set"
     ]
    },
    {
     "cell_type": "code",
     "collapsed": false,
     "input": [
      "from sklearn.cross_validation import KFold\n",
      "\n",
      "def run_cv(X,y,clf_class,**kwargs):\n",
      "    # Construct a kfolds object\n",
      "    kf = KFold(len(y),n_folds=5,shuffle=True)\n",
      "    y_pred = y.copy()\n",
      "    \n",
      "    # Iterate through folds\n",
      "    for train_index, test_index in kf:\n",
      "        X_train, X_test = X[train_index], X[test_index]\n",
      "        y_train = y[train_index]\n",
      "        # Initialize a classifier with key word arguments\n",
      "        clf = clf_class(**kwargs)\n",
      "        clf.fit(X_train,y_train)\n",
      "        y_pred[test_index] = clf.predict(X_test)\n",
      "    return y_pred"
     ],
     "language": "python",
     "metadata": {},
     "outputs": [],
     "prompt_number": 27
    },
    {
     "cell_type": "markdown",
     "metadata": {},
     "source": [
      "#Model Testing\n",
      "Test Support Vector Machine, Random Forest, K Nearest Neighbors"
     ]
    },
    {
     "cell_type": "code",
     "collapsed": false,
     "input": [
      "from sklearn.svm import SVC\n",
      "from sklearn.ensemble import RandomForestClassifier as RF\n",
      "from sklearn.neighbors import KNeighborsClassifier as KNN\n",
      "\n",
      "def accuracy(y_true,y_pred):\n",
      "    # NumPy interpretes True and False as 1. and 0.\n",
      "    return np.mean(y_true == y_pred)\n",
      "\n",
      "print \"Support vector machines:\"\n",
      "print \"%.3f\" % accuracy(y, run_cv(X,y,SVC))\n",
      "print \"Random forest:\"\n",
      "print \"%.3f\" % accuracy(y, run_cv(X,y,RF))\n",
      "print \"K-nearest-neighbors:\"\n",
      "print \"%.3f\" % accuracy(y, run_cv(X,y,KNN))"
     ],
     "language": "python",
     "metadata": {},
     "outputs": [
      {
       "output_type": "stream",
       "stream": "stdout",
       "text": [
        "Support vector machines:\n",
        "0.920"
       ]
      },
      {
       "output_type": "stream",
       "stream": "stdout",
       "text": [
        "\n",
        "Random forest:\n",
        "0.942"
       ]
      },
      {
       "output_type": "stream",
       "stream": "stdout",
       "text": [
        "\n",
        "K-nearest-neighbors:\n",
        "0.893"
       ]
      },
      {
       "output_type": "stream",
       "stream": "stdout",
       "text": [
        "\n"
       ]
      }
     ],
     "prompt_number": 28
    },
    {
     "cell_type": "markdown",
     "metadata": {},
     "source": [
      "#Visualize Results with Confusion Matrix"
     ]
    },
    {
     "cell_type": "code",
     "collapsed": false,
     "input": [
      "from sklearn.metrics import confusion_matrix\n",
      "\n",
      "y = np.array(y)\n",
      "class_names = np.unique(y)\n",
      "\n",
      "confusion_matrices = [\n",
      "    ( \"Support Vector Machines\", confusion_matrix(y,run_cv(X,y,SVC)) ),\n",
      "    ( \"Random Forest\", confusion_matrix(y,run_cv(X,y,RF)) ),\n",
      "    ( \"K-Nearest-Neighbors\", confusion_matrix(y,run_cv(X,y,KNN)) ),\n",
      "]\n",
      "\n",
      "conMatrix = confusion_matrix(y,run_cv(X,y,SVC))\n",
      "\n",
      "# Pyplot code not included to reduce clutter\n",
      "import matplotlib.pyplot\n",
      "import pylab as pl\n",
      "%matplotlib inline\n",
      "\n",
      "# Show confusion matrix in a separate window\n",
      "pl.matshow(conMatrix)\n",
      "pl.title('Confusion matrix')\n",
      "pl.colorbar()\n",
      "pl.ylabel('True label')\n",
      "pl.xlabel('Predicted label')\n",
      "pl.show()\n",
      "#draw_confusion_matrices(confusion_matrices,class_names)\n",
      "print confusion_matrices\n",
      "print conMatrix"
     ],
     "language": "python",
     "metadata": {},
     "outputs": [
      {
       "metadata": {},
       "output_type": "display_data",
       "png": "[encoded data removed]",
       "text": [
        "<matplotlib.figure.Figure at 0x105dca090>"
       ]
      },
      {
       "output_type": "stream",
       "stream": "stdout",
       "text": [
        "[('Support Vector Machines', array([[2819,   31],\n",
        "       [ 240,  243]])), ('Random Forest', array([[2831,   19],\n",
        "       [ 162,  321]])), ('K-Nearest-Neighbors', array([[2809,   41],\n",
        "       [ 315,  168]]))]\n",
        "[[2813   37]\n",
        " [ 239  244]]\n"
       ]
      }
     ],
     "prompt_number": 29
    },
    {
     "cell_type": "markdown",
     "metadata": {},
     "source": [
      "#Predict Probabilities"
     ]
    },
    {
     "cell_type": "code",
     "collapsed": false,
     "input": [
      "def run_prob_cv(X, y, clf_class, **kwargs):\n",
      "    kf = KFold(len(y), n_folds=5, shuffle=True)\n",
      "    y_prob = np.zeros((len(y),2))\n",
      "    for train_index, test_index in kf:\n",
      "        X_train, X_test = X[train_index], X[test_index]\n",
      "        y_train = y[train_index]\n",
      "        clf = clf_class(**kwargs)\n",
      "        clf.fit(X_train,y_train)\n",
      "        # Predict probabilities, not classes\n",
      "        y_prob[test_index] = clf.predict_proba(X_test)\n",
      "    return y_prob"
     ],
     "language": "python",
     "metadata": {},
     "outputs": [],
     "prompt_number": 30
    },
    {
     "cell_type": "markdown",
     "metadata": {},
     "source": [
      "#Probability for Random Forest Model"
     ]
    },
    {
     "cell_type": "code",
     "collapsed": false,
     "input": [
      "import warnings\n",
      "warnings.filterwarnings('ignore')\n",
      "\n",
      "# Use 10 estimators so predictions are all multiples of 0.1\n",
      "pred_prob = run_prob_cv(X, y, RF, n_estimators=10)\n",
      "pred_churn = pred_prob[:,1]\n",
      "is_churn = y == 1\n",
      "\n",
      "# Number of times a predicted probability is assigned to an observation\n",
      "counts = pd.value_counts(pred_churn)\n",
      "\n",
      "# calculate true probabilities\n",
      "true_prob = {}\n",
      "for prob in counts.index:\n",
      "    true_prob[prob] = np.mean(is_churn[pred_churn == prob])\n",
      "    true_prob = pd.Series(true_prob)\n",
      "\n",
      "# pandas-fu\n",
      "counts = pd.concat([counts,true_prob], axis=1).reset_index()\n",
      "counts.columns = ['pred_prob', 'count', 'true_prob']\n",
      "counts"
     ],
     "language": "python",
     "metadata": {},
     "outputs": [
      {
       "html": [
        "<div style=\"max-height:1000px;max-width:1500px;overflow:auto;\">\n",
        "<table border=\"1\" class=\"dataframe\">\n",
        "  <thead>\n",
        "    <tr style=\"text-align: right;\">\n",
        "      <th></th>\n",
        "      <th>pred_prob</th>\n",
        "      <th>count</th>\n",
        "      <th>true_prob</th>\n",
        "    </tr>\n",
        "  </thead>\n",
        "  <tbody>\n",
        "    <tr>\n",
        "      <th>0 </th>\n",
        "      <td> 0.0</td>\n",
        "      <td> 1749</td>\n",
        "      <td> 0.027444</td>\n",
        "    </tr>\n",
        "    <tr>\n",
        "      <th>1 </th>\n",
        "      <td> 0.1</td>\n",
        "      <td>  703</td>\n",
        "      <td> 0.028450</td>\n",
        "    </tr>\n",
        "    <tr>\n",
        "      <th>2 </th>\n",
        "      <td> 0.2</td>\n",
        "      <td>  272</td>\n",
        "      <td> 0.044118</td>\n",
        "    </tr>\n",
        "    <tr>\n",
        "      <th>3 </th>\n",
        "      <td> 0.3</td>\n",
        "      <td>  126</td>\n",
        "      <td> 0.150794</td>\n",
        "    </tr>\n",
        "    <tr>\n",
        "      <th>4 </th>\n",
        "      <td> 0.7</td>\n",
        "      <td>   81</td>\n",
        "      <td> 0.913580</td>\n",
        "    </tr>\n",
        "    <tr>\n",
        "      <th>5 </th>\n",
        "      <td> 0.9</td>\n",
        "      <td>   74</td>\n",
        "      <td> 0.986486</td>\n",
        "    </tr>\n",
        "    <tr>\n",
        "      <th>6 </th>\n",
        "      <td> 0.8</td>\n",
        "      <td>   73</td>\n",
        "      <td> 0.931507</td>\n",
        "    </tr>\n",
        "    <tr>\n",
        "      <th>7 </th>\n",
        "      <td> 0.4</td>\n",
        "      <td>   71</td>\n",
        "      <td> 0.309859</td>\n",
        "    </tr>\n",
        "    <tr>\n",
        "      <th>8 </th>\n",
        "      <td> 0.6</td>\n",
        "      <td>   71</td>\n",
        "      <td> 0.760563</td>\n",
        "    </tr>\n",
        "    <tr>\n",
        "      <th>9 </th>\n",
        "      <td> 0.5</td>\n",
        "      <td>   67</td>\n",
        "      <td> 0.701493</td>\n",
        "    </tr>\n",
        "    <tr>\n",
        "      <th>10</th>\n",
        "      <td> 1.0</td>\n",
        "      <td>   46</td>\n",
        "      <td> 1.000000</td>\n",
        "    </tr>\n",
        "  </tbody>\n",
        "</table>\n",
        "<p>11 rows \u00d7 3 columns</p>\n",
        "</div>"
       ],
       "metadata": {},
       "output_type": "pyout",
       "prompt_number": 31,
       "text": [
        "    pred_prob  count  true_prob\n",
        "0         0.0   1749   0.027444\n",
        "1         0.1    703   0.028450\n",
        "2         0.2    272   0.044118\n",
        "3         0.3    126   0.150794\n",
        "4         0.7     81   0.913580\n",
        "5         0.9     74   0.986486\n",
        "6         0.8     73   0.931507\n",
        "7         0.4     71   0.309859\n",
        "8         0.6     71   0.760563\n",
        "9         0.5     67   0.701493\n",
        "10        1.0     46   1.000000\n",
        "\n",
        "[11 rows x 3 columns]"
       ]
      }
     ],
     "prompt_number": 31
    },
    {
     "cell_type": "markdown",
     "metadata": {},
     "source": [
      "#Plot Predicted to Actual"
     ]
    },
    {
     "cell_type": "code",
     "collapsed": false,
     "input": [
      "from ggplot import *\n",
      "%matplotlib inline\n",
      "\n",
      "baseline = np.mean(is_churn)\n",
      "ggplot(counts,aes(x='pred_prob',y='true_prob',size='count')) + \\\n",
      "    geom_point(color='blue') + \\\n",
      "    stat_function(fun = lambda x: x, color='red') + \\\n",
      "    stat_function(fun = lambda x: baseline, color='green') + \\\n",
      "    xlim(-0.05,  1.05) + ylim(-0.05,1.05) + \\\n",
      "    ggtitle(\"Random Forest\") + \\\n",
      "    xlab(\"Predicted probability\") + ylab(\"Relative frequency of outcome\")"
     ],
     "language": "python",
     "metadata": {},
     "outputs": [
      {
       "metadata": {},
       "output_type": "display_data",
       "png": "[encoded data removed]",
       "text": [
        "<matplotlib.figure.Figure at 0x105332dd0>"
       ]
      },
      {
       "metadata": {},
       "output_type": "pyout",
       "prompt_number": 32,
       "text": [
        "<ggplot: (272608093)>"
       ]
      }
     ],
     "prompt_number": 32
    },
    {
     "cell_type": "markdown",
     "metadata": {},
     "source": [
      "#Churn Measurement Code"
     ]
    },
    {
     "cell_type": "code",
     "collapsed": false,
     "input": [
      "from __future__ import division\n",
      "import numpy as np\n",
      "\n",
      "__author__ = \"Eric Chiang\"\n",
      "__email__  = \"eric[at]yhathq.com\"\n",
      "\n",
      "\"\"\"\n",
      "\n",
      "Measurements inspired by Philip Tetlock's \"Expert Political Judgment\"\n",
      "\n",
      "Equations take from Yaniv, Yates, & Smith (1991):\n",
      "  \"Measures of Descrimination Skill in Probabilistic Judgement\"\n",
      "\n",
      "\"\"\"\n",
      "\n",
      "\n",
      "def calibration(prob,outcome,n_bins=10):\n",
      "    \"\"\"Calibration measurement for a set of predictions.\n",
      "\n",
      "    When predicting events at a given probability, how far is frequency\n",
      "    of positive outcomes from that probability?\n",
      "    NOTE: Lower scores are better\n",
      "\n",
      "    prob: array_like, float\n",
      "        Probability estimates for a set of events\n",
      "\n",
      "    outcome: array_like, bool\n",
      "        If event predicted occurred\n",
      "\n",
      "    n_bins: int\n",
      "        Number of judgement categories to prefrom calculation over.\n",
      "        Prediction are binned based on probability, since \"descrete\" \n",
      "        probabilities aren't required. \n",
      "\n",
      "    \"\"\"\n",
      "    prob = np.array(prob)\n",
      "    outcome = np.array(outcome)\n",
      "\n",
      "    c = 0.0\n",
      "    # Construct bins\n",
      "    judgement_bins = np.arange(n_bins + 1) / n_bins\n",
      "    # Which bin is each prediction in?\n",
      "    bin_num = np.digitize(prob,judgement_bins)\n",
      "    for j_bin in np.unique(bin_num):\n",
      "        # Is event in bin\n",
      "        in_bin = bin_num == j_bin\n",
      "        # Predicted probability taken as average of preds in bin\n",
      "        predicted_prob = np.mean(prob[in_bin])\n",
      "        # How often did events in this bin actually happen?\n",
      "        true_bin_prob = np.mean(outcome[in_bin])\n",
      "        # Squared distance between predicted and true times num of obs\n",
      "        c += np.sum(in_bin) * ((predicted_prob - true_bin_prob) ** 2)\n",
      "    return c / len(prob)\n",
      "\n",
      "def discrimination(prob,outcome,n_bins=10):\n",
      "    \"\"\"Discrimination measurement for a set of predictions.\n",
      "\n",
      "    For each judgement category, how far from the base probability\n",
      "    is the true frequency of that bin?\n",
      "    NOTE: High scores are better\n",
      "\n",
      "    prob: array_like, float\n",
      "        Probability estimates for a set of events\n",
      "\n",
      "    outcome: array_like, bool\n",
      "        If event predicted occurred\n",
      "\n",
      "    n_bins: int\n",
      "        Number of judgement categories to prefrom calculation over.\n",
      "        Prediction are binned based on probability, since \"descrete\" \n",
      "        probabilities aren't required. \n",
      "\n",
      "    \"\"\"\n",
      "    prob = np.array(prob)\n",
      "    outcome = np.array(outcome)\n",
      "\n",
      "    d = 0.0\n",
      "    # Base frequency of outcomes\n",
      "    base_prob = np.mean(outcome)\n",
      "    # Construct bins\n",
      "    judgement_bins = np.arange(n_bins + 1) / n_bins\n",
      "    # Which bin is each prediction in?\n",
      "    bin_num = np.digitize(prob,judgement_bins)\n",
      "    for j_bin in np.unique(bin_num):\n",
      "        in_bin = bin_num == j_bin\n",
      "        true_bin_prob = np.mean(outcome[in_bin])\n",
      "        # Squared distance between true and base times num of obs\n",
      "        d += np.sum(in_bin) * ((true_bin_prob - base_prob) ** 2)\n",
      "    return d / len(prob)"
     ],
     "language": "python",
     "metadata": {},
     "outputs": [],
     "prompt_number": 33
    },
    {
     "cell_type": "code",
     "collapsed": false,
     "input": [
      "\n",
      "\n",
      "def print_measurements(pred_prob):\n",
      "    churn_prob, is_churn = pred_prob[:,1], y == 1\n",
      "    print \"  %-20s %.4f\" % (\"Calibration Error\", calibration(churn_prob, is_churn))\n",
      "    print \"  %-20s %.4f\" % (\"Discrimination\", discrimination(churn_prob,is_churn))\n",
      "\n",
      "print \"Note -- Lower calibration is better, higher discrimination is better\"\n",
      "\n",
      "print \"Support vector machines:\"\n",
      "print_measurements(run_prob_cv(X,y,SVC,probability=True))\n",
      "\n",
      "print \"Random forests:\"\n",
      "print_measurements(run_prob_cv(X,y,RF,n_estimators=18))\n",
      "\n",
      "print \"K-nearest-neighbors:\"\n",
      "print_measurements(run_prob_cv(X,y,KNN))"
     ],
     "language": "python",
     "metadata": {},
     "outputs": [
      {
       "output_type": "stream",
       "stream": "stdout",
       "text": [
        "Note -- Lower calibration is better, higher discrimination is better\n",
        "Support vector machines:\n",
        "  Calibration Error    0.0012"
       ]
      },
      {
       "output_type": "stream",
       "stream": "stdout",
       "text": [
        "\n",
        "  Discrimination       0.0675\n",
        "Random forests:\n",
        "  Calibration Error    0.0065"
       ]
      },
      {
       "output_type": "stream",
       "stream": "stdout",
       "text": [
        "\n",
        "  Discrimination       0.0819\n",
        "K-nearest-neighbors:\n",
        "  Calibration Error    0.0031"
       ]
      },
      {
       "output_type": "stream",
       "stream": "stdout",
       "text": [
        "\n",
        "  Discrimination       0.0435\n"
       ]
      }
     ],
     "prompt_number": 36
    },
    {
     "cell_type": "markdown",
     "metadata": {},
     "source": [
      "#Build Model"
     ]
    },
    {
     "cell_type": "code",
     "collapsed": false,
     "input": [
      "from sklearn.cross_validation import train_test_split\n",
      "\n",
      "train_index,test_index = train_test_split(churnDf.index)\n",
      "clf = SVC(probability=True)\n",
      "output = clf.fit(X[train_index],y[train_index])\n",
      "print output.summary\n",
      "'''\n",
      "test_churn_df = churnDf.ix[test_index]\n",
      "test_churn_df.to_csv(\"test_churn.csv\")\n",
      "'''"
     ],
     "language": "python",
     "metadata": {},
     "outputs": [
      {
       "ename": "AttributeError",
       "evalue": "'SVC' object has no attribute 'summary'",
       "output_type": "pyerr",
       "traceback": [
        "\u001b[0;31m---------------------------------------------------------------------------\u001b[0m\n\u001b[0;31mAttributeError\u001b[0m                            Traceback (most recent call last)",
        "\u001b[0;32m<ipython-input-41-36d814a4209b>\u001b[0m in \u001b[0;36m<module>\u001b[0;34m()\u001b[0m\n\u001b[1;32m      4\u001b[0m \u001b[0mclf\u001b[0m \u001b[0;34m=\u001b[0m \u001b[0mSVC\u001b[0m\u001b[0;34m(\u001b[0m\u001b[0mprobability\u001b[0m\u001b[0;34m=\u001b[0m\u001b[0mTrue\u001b[0m\u001b[0;34m)\u001b[0m\u001b[0;34m\u001b[0m\u001b[0m\n\u001b[1;32m      5\u001b[0m \u001b[0moutput\u001b[0m \u001b[0;34m=\u001b[0m \u001b[0mclf\u001b[0m\u001b[0;34m.\u001b[0m\u001b[0mfit\u001b[0m\u001b[0;34m(\u001b[0m\u001b[0mX\u001b[0m\u001b[0;34m[\u001b[0m\u001b[0mtrain_index\u001b[0m\u001b[0;34m]\u001b[0m\u001b[0;34m,\u001b[0m\u001b[0my\u001b[0m\u001b[0;34m[\u001b[0m\u001b[0mtrain_index\u001b[0m\u001b[0;34m]\u001b[0m\u001b[0;34m)\u001b[0m\u001b[0;34m\u001b[0m\u001b[0m\n\u001b[0;32m----> 6\u001b[0;31m \u001b[0;32mprint\u001b[0m \u001b[0moutput\u001b[0m\u001b[0;34m.\u001b[0m\u001b[0msummary\u001b[0m\u001b[0;34m\u001b[0m\u001b[0m\n\u001b[0m\u001b[1;32m      7\u001b[0m '''\n\u001b[1;32m      8\u001b[0m \u001b[0mtest_churn_df\u001b[0m \u001b[0;34m=\u001b[0m \u001b[0mchurnDf\u001b[0m\u001b[0;34m.\u001b[0m\u001b[0mix\u001b[0m\u001b[0;34m[\u001b[0m\u001b[0mtest_index\u001b[0m\u001b[0;34m]\u001b[0m\u001b[0;34m\u001b[0m\u001b[0m\n",
        "\u001b[0;31mAttributeError\u001b[0m: 'SVC' object has no attribute 'summary'"
       ]
      }
     ],
     "prompt_number": 41
    },
    {
     "cell_type": "code",
     "collapsed": false,
     "input": [],
     "language": "python",
     "metadata": {},
     "outputs": []
    }
   ],
   "metadata": {}
  }
 ]
}