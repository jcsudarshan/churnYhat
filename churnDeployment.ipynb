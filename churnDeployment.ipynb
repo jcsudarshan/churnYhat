{
 "metadata": {
  "name": "",
  "signature": "sha256:cbee845bc2347746f6c954ef4e0d8415c629958ffdc30a553c3c3d02ab4b98ad"
 },
 "nbformat": 3,
 "nbformat_minor": 0,
 "worksheets": [
  {
   "cells": [
    {
     "cell_type": "markdown",
     "metadata": {},
     "source": [
      "#Yhat Deployment"
     ]
    },
    {
     "cell_type": "code",
     "collapsed": false,
     "input": [
      "from yhat import Yhat,YhatModel,preprocess\n",
      "import pandas as pd\n",
      "import numpy as np\n",
      "\n",
      "class ChurnModel(YhatModel):\n",
      "    # Type casts incoming data as a dataframe\n",
      "    @preprocess(in_type=pd.DataFrame,out_type=pd.DataFrame)\n",
      "    def execute(self,data):\n",
      "        # Collect customer meta data\n",
      "        response = data[['Area Code','Phone']]\n",
      "        charges = ['Day Charge','Eve Charge','Night Charge','Intl Charge']\n",
      "        response['customer_worth'] = data[charges].sum(axis=1)\n",
      "        # Convert yes no columns to bool\n",
      "        data[yes_no_cols] = data[yes_no_cols] == 'yes'\n",
      "        # Create feature space\n",
      "        X = data[features].as_matrix().astype(float)\n",
      "        X = scaler.transform(X)\n",
      "        # Make prediction\n",
      "        churn_prob = clf.predict_proba(X)\n",
      "        response['churn_prob'] = churn_prob[:,1]\n",
      "        # Calculate expected loss by churn\n",
      "        response['expected_loss'] = response['churn_prob'] * response['customer_worth']\n",
      "        response = response.sort('expected_loss', ascending=False)\n",
      "        # Return response DataFrame\n",
      "        return response\n",
      "\n",
      "yh = Yhat(\n",
      "    \"upjohnc@gmail.com\",\n",
      "    \"eb27a1a0836fea54ffa7c994917e5c92\",\n",
      "    \"http://cloud.yhathq.com/\"\n",
      ")\n",
      "\n",
      "response = yh.deploy(\"PythonChurnModel\",ChurnModel,globals())"
     ],
     "language": "python",
     "metadata": {},
     "outputs": [
      {
       "ename": "ImportError",
       "evalue": "No module named yhat",
       "output_type": "pyerr",
       "traceback": [
        "\u001b[0;31m---------------------------------------------------------------------------\u001b[0m\n\u001b[0;31mImportError\u001b[0m                               Traceback (most recent call last)",
        "\u001b[0;32m<ipython-input-1-c80f766c591a>\u001b[0m in \u001b[0;36m<module>\u001b[0;34m()\u001b[0m\n\u001b[0;32m----> 1\u001b[0;31m \u001b[0;32mfrom\u001b[0m \u001b[0myhat\u001b[0m \u001b[0;32mimport\u001b[0m \u001b[0mYhat\u001b[0m\u001b[0;34m,\u001b[0m\u001b[0mYhatModel\u001b[0m\u001b[0;34m,\u001b[0m\u001b[0mpreprocess\u001b[0m\u001b[0;34m\u001b[0m\u001b[0m\n\u001b[0m\u001b[1;32m      2\u001b[0m \u001b[0;34m\u001b[0m\u001b[0m\n\u001b[1;32m      3\u001b[0m \u001b[0;32mclass\u001b[0m \u001b[0mChurnModel\u001b[0m\u001b[0;34m(\u001b[0m\u001b[0mYhatModel\u001b[0m\u001b[0;34m)\u001b[0m\u001b[0;34m:\u001b[0m\u001b[0;34m\u001b[0m\u001b[0m\n\u001b[1;32m      4\u001b[0m     \u001b[0;31m# Type casts incoming data as a dataframe\u001b[0m\u001b[0;34m\u001b[0m\u001b[0;34m\u001b[0m\u001b[0m\n\u001b[1;32m      5\u001b[0m     \u001b[0;34m@\u001b[0m\u001b[0mpreprocess\u001b[0m\u001b[0;34m(\u001b[0m\u001b[0min_type\u001b[0m\u001b[0;34m=\u001b[0m\u001b[0mpd\u001b[0m\u001b[0;34m.\u001b[0m\u001b[0mDataFrame\u001b[0m\u001b[0;34m,\u001b[0m\u001b[0mout_type\u001b[0m\u001b[0;34m=\u001b[0m\u001b[0mpd\u001b[0m\u001b[0;34m.\u001b[0m\u001b[0mDataFrame\u001b[0m\u001b[0;34m)\u001b[0m\u001b[0;34m\u001b[0m\u001b[0m\n",
        "\u001b[0;31mImportError\u001b[0m: No module named yhat"
       ]
      }
     ],
     "prompt_number": 1
    },
    {
     "cell_type": "code",
     "collapsed": false,
     "input": [],
     "language": "python",
     "metadata": {},
     "outputs": []
    }
   ],
   "metadata": {}
  }
 ]
}